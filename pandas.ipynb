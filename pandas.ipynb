{
 "cells": [
  {
   "cell_type": "markdown",
   "id": "b67430bb",
   "metadata": {},
   "source": [
    "# Pandas"
   ]
  },
  {
   "cell_type": "code",
   "execution_count": 3,
   "id": "d4a46e3b",
   "metadata": {},
   "outputs": [
    {
     "name": "stdout",
     "output_type": "stream",
     "text": [
      "0    10\n",
      "1    20\n",
      "2    30\n",
      "3    40\n",
      "dtype: int64\n",
      "<class 'pandas.core.series.Series'>\n"
     ]
    }
   ],
   "source": [
    "import pandas as pd\n",
    "data1=[10,20,30,40]\n",
    "series1=pd.Series(data1)\n",
    "print(series1)\n",
    "print(type(series1))\n"
   ]
  },
  {
   "cell_type": "code",
   "execution_count": 6,
   "id": "49ab199d",
   "metadata": {},
   "outputs": [
    {
     "name": "stdout",
     "output_type": "stream",
     "text": [
      "roll       rajan\n",
      "course       cse\n",
      "section       23\n",
      "dtype: object\n",
      "<class 'pandas.core.series.Series'>\n"
     ]
    }
   ],
   "source": [
    "data2={'roll':\"rajan\",\"course\":\"cse\",\"section\":23}\n",
    "series2=pd.Series(data2)\n",
    "print(series2)\n",
    "print(type(series2))"
   ]
  },
  {
   "cell_type": "code",
   "execution_count": 7,
   "id": "b1d75572",
   "metadata": {},
   "outputs": [
    {
     "name": "stdout",
     "output_type": "stream",
     "text": [
      "a    10\n",
      "b    20\n",
      "c    30\n",
      "d    40\n",
      "dtype: int64\n"
     ]
    }
   ],
   "source": [
    "data=[10,20,30,40]\n",
    "index=['a','b','c','d']\n",
    "series3=pd.Series(data,index=index)\n",
    "print(series3)"
   ]
  },
  {
   "cell_type": "code",
   "execution_count": 10,
   "id": "d6b8aa1c",
   "metadata": {},
   "outputs": [
    {
     "name": "stdout",
     "output_type": "stream",
     "text": [
      "     name subject  marks\n",
      "0  sobhit  python     78\n",
      "1  shreya      ds     45\n",
      "2  shruti    html     62\n",
      "<class 'pandas.core.frame.DataFrame'>\n"
     ]
    }
   ],
   "source": [
    "Highmarks_data={'name':['sobhit','shreya','shruti'],'subject':['python','ds','html'],'marks':[78,45,62]}\n",
    "df=pd.DataFrame(Highmarks_data)\n",
    "print(df)\n",
    "print(type(df))"
   ]
  },
  {
   "cell_type": "code",
   "execution_count": 15,
   "id": "240ba0df",
   "metadata": {},
   "outputs": [
    {
     "name": "stdout",
     "output_type": "stream",
     "text": [
      "     name  age      city\n",
      "0   sahil   19  mirzapur\n",
      "1   sagar   20    ballia\n",
      "2  satyam   25     delhi\n",
      "<class 'pandas.core.frame.DataFrame'>\n"
     ]
    }
   ],
   "source": [
    "citydata=[{'name':\"sahil\",'age':19,'city':'mirzapur'},\n",
    "         {'name':\"sagar\",'age':20,'city':'ballia'},\n",
    "         {'name':\"satyam\",'age':25,'city':'delhi'}] \n",
    "df=pd.DataFrame(citydata)\n",
    "print(df)\n",
    "print(type(df))        "
   ]
  }
 ],
 "metadata": {
  "kernelspec": {
   "display_name": "Python 3",
   "language": "python",
   "name": "python3"
  },
  "language_info": {
   "codemirror_mode": {
    "name": "ipython",
    "version": 3
   },
   "file_extension": ".py",
   "mimetype": "text/x-python",
   "name": "python",
   "nbconvert_exporter": "python",
   "pygments_lexer": "ipython3",
   "version": "3.13.7"
  }
 },
 "nbformat": 4,
 "nbformat_minor": 5
}
