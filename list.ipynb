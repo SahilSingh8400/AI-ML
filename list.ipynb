{
 "cells": [
  {
   "cell_type": "markdown",
   "id": "fd8f75d4",
   "metadata": {},
   "source": [
    "## Apend"
   ]
  },
  {
   "cell_type": "code",
   "execution_count": 17,
   "id": "0c512a74",
   "metadata": {},
   "outputs": [
    {
     "name": "stdout",
     "output_type": "stream",
     "text": [
      "[1, 2, 3, 4, 5]\n"
     ]
    }
   ],
   "source": [
    "list = [1,2,3,4]\n",
    "list.append(5)\n",
    "print(list)\n"
   ]
  },
  {
   "cell_type": "markdown",
   "id": "3e23c22a",
   "metadata": {},
   "source": [
    "## Count"
   ]
  },
  {
   "cell_type": "code",
   "execution_count": 8,
   "id": "86b9ca3a",
   "metadata": {},
   "outputs": [
    {
     "name": "stdout",
     "output_type": "stream",
     "text": [
      "3\n"
     ]
    }
   ],
   "source": [
    "list = [1,2,3,4,4,4,5,5,2,1,]\n",
    "print(list.count(4))"
   ]
  },
  {
   "cell_type": "markdown",
   "id": "42991225",
   "metadata": {},
   "source": [
    "## Extend"
   ]
  },
  {
   "cell_type": "code",
   "execution_count": 10,
   "id": "3496a363",
   "metadata": {},
   "outputs": [
    {
     "name": "stdout",
     "output_type": "stream",
     "text": [
      "[1, 2, 3, 4, 6, 5]\n"
     ]
    }
   ],
   "source": [
    "list = [1,2,3,4]\n",
    "list.extend([6,5])\n",
    "print(list)"
   ]
  },
  {
   "cell_type": "markdown",
   "id": "08eee9bf",
   "metadata": {},
   "source": [
    "## Pop"
   ]
  },
  {
   "cell_type": "code",
   "execution_count": 21,
   "id": "6d20e67b",
   "metadata": {},
   "outputs": [],
   "source": [
    "list.remove(2)"
   ]
  },
  {
   "cell_type": "markdown",
   "id": "d88b24cb",
   "metadata": {},
   "source": [
    "## numpy array"
   ]
  },
  {
   "cell_type": "code",
   "execution_count": null,
   "id": "4ad11823",
   "metadata": {},
   "outputs": [
    {
     "name": "stdout",
     "output_type": "stream",
     "text": [
      "[10 20 30]\n",
      "[[10 20 30]\n",
      " [40 50 60]\n",
      " [70 80 90]]\n",
      "(3,)\n",
      "(3, 3)\n",
      "8\n",
      "8\n",
      "1\n",
      "2\n",
      "[[0. 0.]\n",
      " [0. 0.]]\n",
      "[[1. 1. 1. 1. 1.]\n",
      " [1. 1. 1. 1. 1.]\n",
      " [1. 1. 1. 1. 1.]\n",
      " [1. 1. 1. 1. 1.]\n",
      " [1. 1. 1. 1. 1.]]\n",
      "[ 3  5  7  9 11]\n"
     ]
    }
   ],
   "source": [
    "import numpy\n",
    "myarr1=numpy.array([10,20,30])\n",
    "myarr2=numpy.array([[10,20,30],[40,50,60],[70,80,90]])\n",
    "print(myarr1)\n",
    "print(myarr2)\n",
    "print(numpy.shape(myarr1))\n",
    "print(numpy.shape(myarr2))\n",
    "print((myarr1.itemsize))\n",
    "print((myarr2.itemsize))\n",
    "print((myarr1.ndim))\n",
    "print((myarr2.ndim))\n",
    "import numpy as np\n",
    "numpy.__version__\n",
    "arr0=np.zeros((2,2))\n",
    "arr1=np.ones((5,5))\n",
    "print(arr0)\n",
    "print(arr1)\n",
    "arrang_arr=np.arange(3,12,2)\n",
    "print(arrang_arr)"
   ]
  },
  {
   "cell_type": "markdown",
   "id": "ed8095c9",
   "metadata": {},
   "source": [
    "## numpy.random.rand()"
   ]
  },
  {
   "cell_type": "code",
   "execution_count": 11,
   "id": "e1538644",
   "metadata": {},
   "outputs": [
    {
     "data": {
      "text/plain": [
       "array([[0.41863436, 0.52208029, 0.6228839 , 0.6105649 , 0.97116044],\n",
       "       [0.45730906, 0.32539949, 0.55703757, 0.00802202, 0.1302159 ]])"
      ]
     },
     "execution_count": 11,
     "metadata": {},
     "output_type": "execute_result"
    }
   ],
   "source": [
    "import numpy as np\n",
    "x=np.random.rand(2,5)\n",
    "x"
   ]
  },
  {
   "cell_type": "code",
   "execution_count": null,
   "id": "ba6690e1",
   "metadata": {},
   "outputs": [
    {
     "name": "stdout",
     "output_type": "stream",
     "text": [
      "[[8 9 5 8 8]\n",
      " [5 7 7 8 6]\n",
      " [7 5 7 8 5]\n",
      " [9 9 5 6 8]]\n",
      "2\n",
      "(4, 5)\n",
      "<class 'numpy.ndarray'>\n"
     ]
    }
   ],
   "source": [
    "import numpy as np\n",
    "x=np.random.randint(5,10,size=(4,5))\n",
    "print(x)\n",
    "print(x.ndim) # tells the dimensions like 1D,2D,3D\n",
    "print(x.shape) # tells the size n*m\n",
    "print(type(x))"
   ]
  },
  {
   "cell_type": "markdown",
   "id": "ea9cc345",
   "metadata": {},
   "source": [
    "## Accessing elements from an array"
   ]
  },
  {
   "cell_type": "code",
   "execution_count": 5,
   "id": "56cfce17",
   "metadata": {},
   "outputs": [
    {
     "ename": "NameError",
     "evalue": "name 'np' is not defined",
     "output_type": "error",
     "traceback": [
      "\u001b[31m---------------------------------------------------------------------------\u001b[39m",
      "\u001b[31mNameError\u001b[39m                                 Traceback (most recent call last)",
      "\u001b[36mCell\u001b[39m\u001b[36m \u001b[39m\u001b[32mIn[5]\u001b[39m\u001b[32m, line 1\u001b[39m\n\u001b[32m----> \u001b[39m\u001b[32m1\u001b[39m a1=\u001b[43mnp\u001b[49m.array([[\u001b[32m1\u001b[39m,\u001b[32m2\u001b[39m,\u001b[32m3\u001b[39m,\u001b[32m4\u001b[39m],[\u001b[32m5\u001b[39m,\u001b[32m6\u001b[39m,\u001b[32m7\u001b[39m,\u001b[32m8\u001b[39m]])\n\u001b[32m      2\u001b[39m \u001b[38;5;28mprint\u001b[39m(a1)\n\u001b[32m      3\u001b[39m \u001b[38;5;28mprint\u001b[39m(a1[\u001b[32m1\u001b[39m:,\u001b[32m2\u001b[39m:]) \u001b[38;5;66;03m#indexing forom which it has to print \u001b[39;00m\n",
      "\u001b[31mNameError\u001b[39m: name 'np' is not defined"
     ]
    }
   ],
   "source": [
    "a1=np.array([[1,2,3,4],[5,6,7,8]])\n",
    "print(a1)\n",
    "print(a1[1:,2:]) #indexing forom which it has to print \n",
    "a1[-1][2]"
   ]
  }
 ],
 "metadata": {
  "kernelspec": {
   "display_name": "Python 3",
   "language": "python",
   "name": "python3"
  },
  "language_info": {
   "codemirror_mode": {
    "name": "ipython",
    "version": 3
   },
   "file_extension": ".py",
   "mimetype": "text/x-python",
   "name": "python",
   "nbconvert_exporter": "python",
   "pygments_lexer": "ipython3",
   "version": "3.13.7"
  }
 },
 "nbformat": 4,
 "nbformat_minor": 5
}
